{
 "cells": [
  {
   "cell_type": "markdown",
   "id": "0441b77a",
   "metadata": {},
   "source": [
    "# Flights & Airports Exploratory SQL Notebook\n",
    "\n",
    "This notebook demonstrates how to use **DuckDB** directly from Python to run fast, expressive SQL queries on the raw CSV ﬁles that you uploaded (`flights.csv`, `airports.csv`, and `lookupcodes.csv`).\n",
    "\n",
    "All the queries are written in standard SQL, but you can mix and match with Python for visualization and further analysis.\n",
    "\n",
    "> **Tip:** Change the file paths if you have moved the CSVs to a different folder."
   ]
  },
  {
   "cell_type": "code",
   "execution_count": null,
   "id": "568a18bd",
   "metadata": {},
   "outputs": [],
   "source": [
    "import duckdb, pandas as pd, matplotlib.pyplot as plt\n",
    "\n",
    "# ➊ Register the three CSVs as DuckDB views so we can query them as tables\n",
    "duckdb.sql(\"\"\"CREATE OR REPLACE VIEW flights  AS SELECT * FROM read_csv_auto('/mnt/data/flights.csv');\"\"\")\n",
    "duckdb.sql(\"\"\"CREATE OR REPLACE VIEW airports AS SELECT * FROM read_csv_auto('/mnt/data/airports.csv');\"\"\")\n",
    "duckdb.sql(\"\"\"CREATE OR REPLACE VIEW lookup   AS SELECT * FROM read_csv_auto('/mnt/data/lookupcodes.csv');\"\"\")\n",
    "print(\"Views created: flights (✈️), airports (🏙️), lookup (📋)\")\n"
   ]
  },
  {
   "cell_type": "markdown",
   "id": "72f387f9",
   "metadata": {},
   "source": [
    "## 1. Quick peek at the schema"
   ]
  },
  {
   "cell_type": "code",
   "execution_count": null,
   "id": "716320d0",
   "metadata": {},
   "outputs": [],
   "source": [
    "duckdb.sql(\"DESCRIBE flights\").df()"
   ]
  },
  {
   "cell_type": "code",
   "execution_count": null,
   "id": "bcb9975f",
   "metadata": {},
   "outputs": [],
   "source": [
    "duckdb.sql(\"DESCRIBE airports\").df()"
   ]
  },
  {
   "cell_type": "code",
   "execution_count": null,
   "id": "51add659",
   "metadata": {},
   "outputs": [],
   "source": [
    "duckdb.sql(\"DESCRIBE lookup\").df()"
   ]
  },
  {
   "cell_type": "markdown",
   "id": "cf33f02d",
   "metadata": {},
   "source": [
    "## 2. Top 10 busiest departure airports"
   ]
  },
  {
   "cell_type": "code",
   "execution_count": null,
   "id": "555da6ca",
   "metadata": {},
   "outputs": [],
   "source": [
    "q1 = \"\"\"\n",
    "WITH departures AS (\n",
    "    SELECT origin, COUNT(*) AS num_departures\n",
    "    FROM flights\n",
    "    GROUP BY origin\n",
    ")\n",
    "SELECT a.airport, a.city, a.state, d.num_departures\n",
    "FROM departures d\n",
    "JOIN airports a ON a.iata = d.origin\n",
    "ORDER BY d.num_departures DESC\n",
    "LIMIT 10;\n",
    "\"\"\"\n",
    "duckdb.sql(q1).df()\n"
   ]
  },
  {
   "cell_type": "markdown",
   "id": "8d520af3",
   "metadata": {},
   "source": [
    "## 3. Airlines with the worst average arrival delay (≥15 min)"
   ]
  },
  {
   "cell_type": "code",
   "execution_count": null,
   "id": "4cf8c8e8",
   "metadata": {},
   "outputs": [],
   "source": [
    "q2 = \"\"\"\n",
    "WITH perf AS (\n",
    "    SELECT carrier, AVG(arr_delay) AS avg_arr_delay_min\n",
    "    FROM flights\n",
    "    GROUP BY carrier\n",
    ")\n",
    "SELECT l.description   AS airline,\n",
    "       ROUND(p.avg_arr_delay_min, 2) AS avg_arr_delay_min\n",
    "FROM perf p\n",
    "LEFT JOIN lookup l ON l.code = p.carrier\n",
    "WHERE p.avg_arr_delay_min >= 15\n",
    "ORDER BY p.avg_arr_delay_min DESC\n",
    "LIMIT 15;\n",
    "\"\"\"\n",
    "duckdb.sql(q2).df()\n"
   ]
  },
  {
   "cell_type": "markdown",
   "id": "faccf0d3",
   "metadata": {},
   "source": [
    "## 4. 10 most‑flown routes"
   ]
  },
  {
   "cell_type": "code",
   "execution_count": null,
   "id": "550e8605",
   "metadata": {},
   "outputs": [],
   "source": [
    "q3 = \"\"\"\n",
    "SELECT origin, dest, COUNT(*) AS flights\n",
    "FROM flights\n",
    "GROUP BY origin, dest\n",
    "ORDER BY flights DESC\n",
    "LIMIT 10;\n",
    "\"\"\"\n",
    "duckdb.sql(q3).df()\n"
   ]
  },
  {
   "cell_type": "markdown",
   "id": "079ac55e",
   "metadata": {},
   "source": [
    "## 5. Monthly flight volume trend"
   ]
  },
  {
   "cell_type": "code",
   "execution_count": null,
   "id": "ad1b6476",
   "metadata": {},
   "outputs": [],
   "source": [
    "q4 = \"\"\"\n",
    "SELECT month, COUNT(*) AS flights\n",
    "FROM flights\n",
    "GROUP BY month\n",
    "ORDER BY month;\n",
    "\"\"\"\n",
    "df = duckdb.sql(q4).df()\n",
    "df.plot(kind='bar', x='month', y='flights', figsize=(10,4), rot=0, title='Flights per month')\n",
    "plt.ylabel('Number of flights')\n",
    "plt.show()\n"
   ]
  },
  {
   "cell_type": "markdown",
   "id": "f9b7f1cb",
   "metadata": {},
   "source": [
    "## 6. Longest flights by great‑circle distance"
   ]
  },
  {
   "cell_type": "code",
   "execution_count": null,
   "id": "3d3cd2c2",
   "metadata": {},
   "outputs": [],
   "source": [
    "q5 = \"\"\"\n",
    "SELECT origin, dest, distance\n",
    "FROM flights\n",
    "ORDER BY distance DESC\n",
    "LIMIT 10;\n",
    "\"\"\"\n",
    "duckdb.sql(q5).df()\n"
   ]
  },
  {
   "cell_type": "markdown",
   "id": "7eba0181",
   "metadata": {},
   "source": [
    "## 7. Cancellation reasons breakdown"
   ]
  },
  {
   "cell_type": "code",
   "execution_count": null,
   "id": "0d0e1389",
   "metadata": {},
   "outputs": [],
   "source": [
    "q6 = \"\"\"\n",
    "SELECT l.description AS cancel_reason, COUNT(*) AS cancellations\n",
    "FROM flights f\n",
    "JOIN lookup l ON l.code = f.cancellation_code\n",
    "WHERE f.cancelled = 1\n",
    "GROUP BY l.description\n",
    "ORDER BY cancellations DESC;\n",
    "\"\"\"\n",
    "duckdb.sql(q6).df()\n"
   ]
  }
 ],
 "metadata": {},
 "nbformat": 4,
 "nbformat_minor": 5
}
