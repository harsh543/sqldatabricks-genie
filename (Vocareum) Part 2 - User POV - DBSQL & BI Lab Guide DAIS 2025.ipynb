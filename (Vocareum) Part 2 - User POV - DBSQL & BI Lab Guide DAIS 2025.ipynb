{
 "cells": [
  {
   "cell_type": "markdown",
   "metadata": {
    "application/vnd.databricks.v1+cell": {
     "cellMetadata": {},
     "inputWidgets": {},
     "nuid": "dea35966-0b7a-4520-b371-a1c321be4a02",
     "showTitle": false,
     "tableResultSettingsMap": {},
     "title": ""
    }
   },
   "source": [
    "# [Part 2: User POV] Databricks SQL in Action: Intelligent Data Warehousing, Analytics, and BI Hands-On Lab\n",
    "\n",
    "This workshop guide is broken up into **two major sections**:\n",
    "\n",
    "- **Administrator POV** – for Data Architects, Data Warehousing Architects, and Database Administrators\n",
    "- **User POV** – for Data Analysts, Business Analysts, SQL Analysts, and similar roles\n",
    "\n",
    "In this portion of the lab, we will focus on the **User POV** which is the perspective of users who work with data to build dashboards, run queries, and gain insights using Databricks SQL.\n",
    "\n",
    "We’ll be using a sample dataset containing airline and airport information to complete the exercises.\n",
    "\n",
    "Here’s what we’ll cover in the User POV:\n",
    "\n",
    "- **Intro:** Navigating Databricks SQL as a Workspace User  \n",
    "- **Step 1:** Create an AI/BI Dashboard  \n",
    "- **Step 2:** Publish and Share an AI/BI Dashboard  \n",
    "- **Step 3:** Create an AI/BI Genie  \n",
    "- **Step 4:** Publish and Share an AI/BI Genie  \n",
    "- **Step 5:** Monitoring AI/BI Genie \n",
    "- **Step 6:** Evaluating AI/BI Genie\n",
    "- **Step 7:** View the Entity Relationship Diagram (ERD)\n",
    "- **Step 8:** View Data Lineage  \n",
    "\n",
    "Let’s begin with the role of the Workspace User!\n"
   ]
  },
  {
   "cell_type": "markdown",
   "metadata": {
    "application/vnd.databricks.v1+cell": {
     "cellMetadata": {},
     "inputWidgets": {},
     "nuid": "4550d8c3-b2e2-4308-bdb6-7e2a2f780067",
     "showTitle": false,
     "tableResultSettingsMap": {},
     "title": ""
    }
   },
   "source": [
    "## Intro: Navigating Databricks SQL as a Workspace User\n",
    "\n",
    "Once you’re logged into the workspace, Databricks presents a landing page with unified navigation.\n",
    "\n",
    "The Databricks workspace offers a user-friendly experience, providing easy access to tools used in data engineering, data science, and analytics workflows. On the left-hand navigation pane, you’ll find a dedicated section for **Databricks SQL**, which includes:\n",
    "\n",
    "* Creating and running SQL queries using the **SQL Editor**\n",
    "* Monitoring previous and active **Queries**\n",
    "* Building visual **Dashboards** for reporting\n",
    "* Running queries using **Serverless SQL Warehouses**\n",
    "* Using **Genie**, a natural language interface to analyze data with AI assistance\n",
    "\n",
    "This intuitive interface allows data analysts, business analysts, and other SQL users to work seamlessly across all aspects of the analytics process.\n"
   ]
  },
  {
   "cell_type": "markdown",
   "metadata": {
    "application/vnd.databricks.v1+cell": {
     "cellMetadata": {},
     "inputWidgets": {},
     "nuid": "eca69c63-7b47-4499-82bf-3935d53af292",
     "showTitle": false,
     "tableResultSettingsMap": {},
     "title": ""
    }
   },
   "source": [
    "## Step 1: Create an AI/BI Dashboard\n",
    "\n",
    "You can use dashboards to build data visualizations and share informative insights with your team. AI/BI Dashboards in Databricks offer:\n",
    "\n",
    "* AI-assisted authoring\n",
    "* Enhanced visualization options\n",
    "* Streamlined configuration tools\n",
    "\n",
    "These dashboards enable users to quickly turn data into shareable, impactful stories. Once published, dashboards can be shared with anyone who has a Databricks account—even if they don’t have direct workspace access.\n",
    "\n",
    "### Creating a Dashboard\n",
    "\n",
    "1. Navigate to the **Dashboards** section from the left-side navigation pane.\n",
    "2. Click **Create Dashboard** in the top-right corner.\n",
    "3. Add your dataset by either:\n",
    "\n",
    "   * Selecting a **table** directly\n",
    "   * Writing a **SQL query** to define your dataset\n",
    "\n",
    "For this lab, you will:\n",
    "\n",
    "* Add the `airports_silver_mv`, `lookupcodes_silver_mv`, `flights_silver_mv` and the `airports_by_city_mv` views directly\n",
    "\n",
    "> **Note:** In a production environment, it’s best to build dashboards on clean Silver or Gold layer data.\n"
   ]
  },
  {
   "cell_type": "markdown",
   "metadata": {
    "application/vnd.databricks.v1+cell": {
     "cellMetadata": {},
     "inputWidgets": {},
     "nuid": "02466f95-77c8-4c81-9bf1-82f7aecfea22",
     "showTitle": false,
     "tableResultSettingsMap": {},
     "title": ""
    }
   },
   "source": [
    "### Step 1a: Creating Visualizations\n",
    "4. Back in the canvas, to make a visualization, click the chart button in the blue bar at the bottom. Drag and drop your chart in any area of choice\n",
    "5. Before you take advantage of the text-to-viz feature, make sure that your dataset is set to flights_silver_mv\n",
    "6. Then type \"Flight Delays by Day of Week\". Click accept and then, you can edit the bar chart using the right hand navigation pane by:\n",
    "- adding a description to the bar chart\n",
    "- changing the visualization type\n",
    "- editing the groupby colors and labels\n",
    "7. You can also create your own visualizations manually using the right hand-navigation pane\n",
    "- select dataset flights_silver_mv\n",
    "- select pie visualization type\n",
    "- title as Count of Arrival Delays\n",
    "- Angle is count(*)\n",
    "- Color/Group by isArrDelayed \n",
    "\n",
    "Feel free to continue playing around with the different visualizations that you can create using natural language or building them manually yourself.\n",
    "****"
   ]
  },
  {
   "cell_type": "markdown",
   "metadata": {
    "application/vnd.databricks.v1+cell": {
     "cellMetadata": {},
     "inputWidgets": {},
     "nuid": "211fa015-4a7a-4296-a5de-a21e6bbbd8dc",
     "showTitle": false,
     "tableResultSettingsMap": {},
     "title": ""
    }
   },
   "source": [
    "### Step 1b: Adding Filters\n",
    "8. AI/BI dashboards also support text widgets using markdown. Add a text widget to your dashboard and title it \"Flight Data Dashboard\"\n",
    "9. Filters are dashboard widgets that help viewers narrow down results and refine data in visualizations. To add a filter, click the filter button on the blue bar and drag and drop it to an area on your canvas.\n",
    "10. Select the type of filter as date picker and the field should be flights_silver_mv.date\n",
    "11. Test out the filter by selecting July 4, 2007 as a date\n",
    "\n",
    "### Step 1c: Adding Parameters\n",
    "Unlike field filters, which directly filter data fields, parameter filters alter the SQL query itself. A filter can be applied to one or more parameters, and parameters must be added to datasets first\n",
    "\n",
    "12. Go to the data tab and select another flights_silver_mv as your data set and rename it it flights_silver_parameters\n",
    "13. Remove the semicolon at the end of the SQL statements and add a where clause and then description =\n",
    "```sql\n",
    "SELECT * \n",
    "FROM flights_silver_mv \n",
    "WHERE dest = :parameter\n",
    "```\n",
    "14. Then click the add parameter button, click the gear button and change the display name to destination and the parameter Type to string\n",
    "15. Type BOS in the parameter box to make sure it works and run the query again"
   ]
  },
  {
   "cell_type": "markdown",
   "metadata": {
    "application/vnd.databricks.v1+cell": {
     "cellMetadata": {},
     "inputWidgets": {},
     "nuid": "4b290f18-1d5b-4eb6-8506-770319b0d662",
     "showTitle": false,
     "tableResultSettingsMap": {},
     "title": ""
    }
   },
   "source": [
    "## Step 1d: Filtering on Parameters\n",
    "\n",
    "Dashboards become much more powerful and user-friendly when they allow interactivity. One way to do this is by filtering data using parameters.\n",
    "\n",
    "### Add a Parameter Filter to Your Dashboard\n",
    "\n",
    "1. Go to your dashboard canvas.\n",
    "2. Click the **Add Filter** button on the blue toolbar.\n",
    "3. Drag and drop the filter widget onto the canvas near your visualizations.\n",
    "4. Set the filter type to **Single Value**.\n",
    "5. For the data source, choose your `flights_silver_mv` table.\n",
    "6. For the filter field, select **Destination**.\n",
    "7. Under the **Parameters** section, link this filter to the parameter you previously created. It should be named `bronze_silver_parameter.dest`.\n",
    "8. Enter a destination airport code in the filter box (e.g., `BOS`, `JFK`, `LAX`) and watch your dashboard dynamically update based on the selection.\n",
    "\n",
    "---\n",
    "\n",
    "## Cross-Filtering\n",
    "\n",
    "AI/BI Dashboards also support **cross-filtering**, a powerful feature that lets users explore data interactively:\n",
    "\n",
    "* Simply **click on a value** (e.g., a bar in a chart or a segment in a pie chart).\n",
    "* All other visualizations on the same dataset will automatically filter based on the selected value.\n",
    "* This allows users to drill down into subsets of data and discover patterns across multiple visuals in real time.\n",
    "\n",
    "> **Note:** If your dashboard contains **multiple pages**, you can also apply **global filters**.\n",
    ">\n",
    "> Global filters apply across all pages, affecting any visualizations that use the same dataset.\n",
    "\n",
    "Cross-filtering and parameters make your dashboards feel alive, allowing end users to explore and gain insights on their own without writing a single line of SQL.\n"
   ]
  },
  {
   "cell_type": "markdown",
   "metadata": {
    "application/vnd.databricks.v1+cell": {
     "cellMetadata": {},
     "inputWidgets": {},
     "nuid": "66af2773-bd73-4522-a796-4cc994d130dc",
     "showTitle": false,
     "tableResultSettingsMap": {},
     "title": ""
    }
   },
   "source": [
    "### Step 2: Publish and Share an AI/BI Dashboard\n",
    "\n",
    "Publish a dashboard to create a clean copy of the current draft. You must have at least CAN EDIT permissions to publish a dashboard.\n",
    "\n",
    "When you publish a dashboard, you can choose to embed your credentials or not:\n",
    "\n",
    "* **Embed credentials**: All viewers of a published dashboard can run queries using your credentials for data and compute. This allows users to see the dashboard even if they don’t have access to the originating workspace, underlying data, or SQL warehouse. *This might expose data to users who have not been granted direct access to it.* This is the default option.\n",
    "\n",
    "* **Don’t embed credentials**: All viewers of the published dashboard run queries using their own data and compute credentials. To view results in the dashboard, viewers need access to the workspace, the attached SQL warehouse, and the associated data.\n",
    "\n",
    "For this workshop we will:\n",
    "\n",
    "1. Give the dashboard a title: **Flight Data Dashboard**\n",
    "2. Embed the credentials\n",
    "3. Click **Publish**\n",
    "\n",
    "After publishing, we can now give privileges to users or groups in our organization to manage, edit, run, or view the dashboard. Additionally, AI/BI Dashboards can now be **embedded into external websites and applications**, a common request among customers.\n",
    "\n",
    "###Step 2a: Ask Genie in Dashboards\n",
    "\n",
    "Within any published AI/BI Dashboard, users can use the built-in **Ask Genie** feature to explore their data in a natural, conversational way.\n",
    "\n",
    "To ask Genie about a specific dashboard chart:\n",
    "* Click Ask Genie from a Genie-enabled published dashboard.\n",
    "* Click a dashboard chart to select it. Genie displays the selected chart title in the chat window.\n",
    "* Ask questions about the data represented in the selected chart.\n",
    "\n",
    "This is a great way to dig deeper into specific insights that the visualizations may not directly reveal.\n",
    "\n",
    "#### Why Create a Dedicated Genie Space?\n",
    "\n",
    "While you can use **Ask Genie** inside the dashboard, it is limited to the datasets and visualizations used in that dashboard.\n",
    "\n",
    "If you want to:\n",
    "\n",
    "* Ask more detailed or broad questions\n",
    "* Explore multiple tables not used in the dashboard\n",
    "* Conduct ad hoc analysis and save reusable queries\n",
    "\n",
    "Then it's best to **create a dedicated Genie Space** where you can access your full data catalog and generate richer insights across different datasets.\n",
    "\n",
    "**Next up: Let's explore how to create and share an AI/BI Genie Space.**\n"
   ]
  },
  {
   "cell_type": "markdown",
   "metadata": {
    "application/vnd.databricks.v1+cell": {
     "cellMetadata": {},
     "inputWidgets": {},
     "nuid": "29c30760-032f-4f51-8fbf-27b9c220016a",
     "showTitle": false,
     "tableResultSettingsMap": {},
     "title": ""
    }
   },
   "source": [
    "### Step 3: Create a AI/BI Genie\n",
    "\n",
    "AI/BI Genie is a no-code interface powered by AI with data intelligence that allows business users to conduct self-serve data analytics using natural language. Domain experts, such as data analysts, configure Genie spaces with datasets, sample queries, and text guidelines to help Genie translate business questions into analytical queries. After set up, business users can ask questions and generate visualizations to understand operational data. You can continuously update Genie’s semantic knowledge as your data changes and users pose new questions. \n",
    "\n",
    "1. You can create a Genie from a table in the catalog explorer, from the Genie listing page or from a dashboard. For this workshop we will create a Genie the Genie listing page\n",
    "2. Click on Genie on the left hand navigation pane and click new\n",
    "3. Give the Genie the title \"Flight Data Genie\"\n",
    "4. Description should say \"for users to understand and gather insights on flight data from the year 2007 to 2024\"\n",
    "5. Select your warehouse. Genie works only on a serverless or pro warehouse\n",
    "6. Add your tables (lookupcodes_silver_mv, airports_silver_mv and flights_silver_mv)\n",
    "  - **Note:** Layer views to reduce the number of columns and add use-case-specific information to increase response quality; and only bring in the tables and columns needed to answer questions for a given domain\n",
    "7. You can optionally add sample questions that you know other users are bound to ask consistently... \n",
    "\n",
    "Your genie space is now created. Let's start chatting and teaching genie."
   ]
  },
  {
   "cell_type": "markdown",
   "metadata": {
    "application/vnd.databricks.v1+cell": {
     "cellMetadata": {},
     "inputWidgets": {},
     "nuid": "8a6fd2f6-2ccc-4cc3-b2e8-ed6edd934a17",
     "showTitle": false,
     "tableResultSettingsMap": {},
     "title": ""
    },
    "jupyter": {
     "outputs_hidden": true
    }
   },
   "source": [
    "\n",
    "### Genie Space Overview\n",
    "Before we start working with Genie. Let's take a look at how the Genie is organized.\n",
    "\n",
    "On the left you can see different icons. \n",
    "- **Chat:** Currently, we are in the chat window. This is where Genie interactions take place\n",
    "- **Instructions:** Instructions help to guide Genie’s responses so that it can process the unique jargon, logic, and concepts in a given domain. Comprehensive instructions are critical to a seamless, intuitive Genie space experience. To enter instructions, click Instructions icon Instructions in the Genie space sidebar to open the instructions pane. Use this pane to add General instructions, Example SQL Queries, and SQL Functions.\n",
    "  - [General Instructions](https://docs.databricks.com/en/genie/index.html#general-instructions): Provide plain text instructions that clearly convey your business or response preferences for Genie to follow. You can format the instructions as a single comprehensive note or categorize them by topics for better organization. For example: \"Our fiscal year starts in February\"\n",
    "  - [Example SQL Queries](https://docs.databricks.com/en/genie/index.html#example-sql-queries): are SQL queries that you prepare to help train Genie. When you add example queries, you are effectively showing Genie how to use your data to answer questions. You can also add example questions to teach Genie about the kinds of questions you would expect the example query to answer.\n",
    "  - [SQL Functions](https://docs.databricks.com/en/genie/index.html#sql-functions): are custom functions that are stored in Unity Catalog and used by Genie to answer specific questions that include complex arguments or calculations that Genie should not be able to access or edit \n",
    "\n",
    "- **Data:** shows the tables that power the space and the metadata associated with them\n",
    "- **Monitoring:** shows the history of activities within your space\n",
    "- **Benchmarks:** help you evaluate the accuracy of your Genie space\n",
    "- **Settings:** brings you back to the Genie form where you can edit the creation of the Genie space\n",
    "\n",
    "### Step 3a: Chatting with Genie\n",
    "\n",
    "1. Click on \"explain the dataset\"\n",
    "2. Genie quickly responds. Now ask \"Which airlines are delayed the most? Give me the top 5 by average delay\"\n",
    "3. Genie gives you an appropriate answer but the unique carrier does not tell us much about the airline name \n",
    "4. You can click \"show generated code\" to see the underlying SQL code that Genie leveraged to create a response. You can optionally edit it directly if you are a SQL expert and understand the code.\n",
    "5. For this lab we can show the magic of Genie by just asking it to \"Now join this up with the lookup code table to give me the actual airline name\"\n",
    "6. Perfect! We can add this as an instruction so that in the future, if other users ask a similar question, Genie will remember and leverage the SQL code.\n",
    "7. Open instructions tab and see the example queries section with our newly added query\n",
    "7. Genie can even create quick visualizations for you to better understand your insights. Let's ask genie: \"Now graph this as a bar chart sorted most to least delayed\"\n"
   ]
  },
  {
   "cell_type": "markdown",
   "metadata": {
    "application/vnd.databricks.v1+cell": {
     "cellMetadata": {},
     "inputWidgets": {},
     "nuid": "db2de0b3-1709-4a34-b308-031a2e59dc22",
     "showTitle": true,
     "tableResultSettingsMap": {},
     "title": ""
    },
    "jupyter": {
     "outputs_hidden": true
    }
   },
   "source": [
    "### Step 4: Share Genie\n",
    "Now that your Genie space has been created and you have tested it by chatting and teaching Genie, it is now time to share Genie with the rest of your team\n",
    "\n",
    "1. You can specify certain users or groups to share with at a given permission level: CAN MANAGE, CAN EDIT, CAN RUN, and CAN VIEW\n",
    "2. Use the Copy link button at the bottom of the Share dialog to get a shareable link to the Genie space. Privileged users can click the link to open the Genie space in a new tab and ask questions.\n",
    "\n"
   ]
  },
  {
   "cell_type": "markdown",
   "metadata": {
    "application/vnd.databricks.v1+cell": {
     "cellMetadata": {},
     "inputWidgets": {},
     "nuid": "cfa0e77f-027a-4609-beca-9513e26cff3b",
     "showTitle": false,
     "tableResultSettingsMap": {},
     "title": ""
    }
   },
   "source": [
    "### Step 5: Monitoring Genie\n",
    "\n",
    "As users begin to ask Genie questions, they are able to provide feedback responses using a thumbs-up or thumbs-down feedback button. On the monitoring page, you can view individual questions and responses, thumbs-up or thumbs-down feedback provided by users, and questions marked for review. \n",
    "\n",
    "1. Head back to the chat window and select the chat monitoring to view our conversation with Genie\n",
    "2. Scroll down to the last prompt we asked Genie \"Which airlines are delayed the most? Give me the top 5 by average delay\" and give that a thumbs up\n",
    "3. Head back to the monitoring page to verify our feedback response has been recorded\n",
    "\n",
    "**The monitoring page** shows all of the questions and answers that have been asked in the space. You can filter questions by time, rating, user, or status. By monitoring the space, Genie space editors can proactively understand the queries raised by business users and how the Genie space responded.\n",
    "\n",
    "By identifying the questions that Genie struggles with, you can update the Genie space with specific instructions to improve its responses. Click a question to open the question and response text. You can also access the complete chat thread from this view."
   ]
  },
  {
   "cell_type": "markdown",
   "metadata": {
    "application/vnd.databricks.v1+cell": {
     "cellMetadata": {},
     "inputWidgets": {},
     "nuid": "073e3b6d-119e-449f-b92b-6d128aca4304",
     "showTitle": false,
     "tableResultSettingsMap": {},
     "title": ""
    }
   },
   "source": [
    "\n",
    "### Step 6: Evaluating Genie\n",
    "\n",
    "Benchmarks allow you to systematically evaluate Genie’s performance at answering business questions in a structured, measurable way. Unlike instructions, benchmarks are not used to guide or inform Genie—they are strictly used to test accuracy and reliability.\n",
    "\n",
    "Benchmarks help you:\n",
    "\n",
    "* Scale up testing of Genie’s responses\n",
    "* Measure accuracy using expected SQL queries\n",
    "* Track performance over time\n",
    "\n",
    "When setting a benchmark, you provide:\n",
    "\n",
    "* A **question** you want Genie to answer\n",
    "* An **SQL query** that represents the expected correct answer\n",
    "\n",
    "Genie will generate its own answer to the benchmark question and run it. The results are then compared to your provided SQL query to calculate a score.\n",
    "\n",
    "Let’s walk through how to create a benchmark:\n",
    "\n",
    "1. In your Genie space, click the **Benchmarks** tab in the left sidebar\n",
    "2. Click the **Questions** tab, then select **Add Benchmark**\n",
    "3. In the question field, enter:\n",
    "\n",
    "   > \"How many flights from Boston were delayed in March 2007?\"\n",
    "4. Below is the correct SQL statement to answer the question. Copy and paste it into the SQL field:\n",
    "\n",
    "```sql\n",
    "WITH filtered_flights AS (\n",
    "  SELECT\n",
    "    *\n",
    "  FROM\n",
    "    <catalog>.<schema>.`flights_silver_mv`\n",
    "  WHERE\n",
    "    `Origin` = 'BOS'\n",
    "    AND `IsDepDelayed` = 'YES'\n",
    "),\n",
    "filtered_flights_march_2007 AS (\n",
    "  SELECT\n",
    "    *\n",
    "  FROM\n",
    "    filtered_flights\n",
    "  WHERE\n",
    "    YEAR(`Date`) = 2007\n",
    "    AND MONTH(`Date`) = 3\n",
    ")\n",
    "SELECT\n",
    "  COUNT(*) as `DelayedFlights`\n",
    "FROM\n",
    "  filtered_flights_march_2007\n",
    "```\n",
    "\n",
    "5. Click **Preview** to run the query and verify the expected result is **188 delayed flights** from Boston in March 2007.\n",
    "6. Once verified, you can add more variations of the same question that you believe people will ask, or you've heard them ask. For example: \n",
    " > \"How many flights departing from Boston experienced delays during March 2007?\"\n",
    "\n",
    " > \"What was the number of delayed flights originating in Boston in March 2007?\"\n",
    "\n",
    " > \"In March 2007, how many flights leaving Boston were delayed?\"\n",
    " \n",
    " > \"How many Boston departures were delayed in March 2007?\"\n",
    "\n",
    "Don't forget to use the same sql code above as your ground truth. \n",
    "\n",
    "7. Now, click **Run Benchmark** to test Genie’s response against the correct answer. If Genie’s output matches your ground truth result (188), the benchmark score will be marked **100% accurate**.\n",
    "\n",
    "Benchmarks are a great way to validate Genie’s ability to answer complex questions using multiple tables, ensuring reliability before sharing results with stakeholders.\n"
   ]
  },
  {
   "cell_type": "markdown",
   "metadata": {
    "application/vnd.databricks.v1+cell": {
     "cellMetadata": {},
     "inputWidgets": {},
     "nuid": "6b123c2d-ce44-4360-baa4-8fbb0b9cffb6",
     "showTitle": false,
     "tableResultSettingsMap": {},
     "title": ""
    }
   },
   "source": [
    "### Step 7: Viewing Entity Relationship Diagram\n",
    "\n",
    "Back in the catalog explorer, you will see that our foreign key constraint has been labeled, but better yet, Databricks supports creating/visualizing entity relational models with primary keys/foreign keys in an Entity relationship digram within the Catalog Explorer UI. \n",
    "\n",
    "1. Navigate back to the catalog explorer\n",
    "2. Locate your catalog\n",
    "3. Locate your schema\n",
    "4. Select the flights_bronze table\n",
    "5. Click on view relationships\n",
    "\n"
   ]
  },
  {
   "cell_type": "markdown",
   "metadata": {
    "application/vnd.databricks.v1+cell": {
     "cellMetadata": {},
     "inputWidgets": {},
     "nuid": "b2b30cac-c0e4-4a0a-8ca7-57375a90fa05",
     "showTitle": false,
     "tableResultSettingsMap": {},
     "title": ""
    }
   },
   "source": [
    "### Step 8: Viewing Data Lineage\n",
    "\n",
    "In the catalog explorer, we can also view lineage graphs for each table to see all the upstream and downstream tables.\n",
    "\n",
    "\n",
    "1. On the flights table, click lineage\n",
    "  - Here we can see the upstream/downstream tables and a list of workflows, dashboards, and queries that the table is used in\n",
    "2. To view the lineage diagram click on \"see lineage graph\"\n",
    "  - Here you can see a visual representation of the data lineage flow from each data or AI asset\n"
   ]
  },
  {
   "cell_type": "markdown",
   "metadata": {
    "application/vnd.databricks.v1+cell": {
     "cellMetadata": {},
     "inputWidgets": {},
     "nuid": "17d1853b-00d6-4e13-8a81-eb2a9d53740f",
     "showTitle": false,
     "tableResultSettingsMap": {},
     "title": ""
    }
   },
   "source": [
    "### Conclusion\n",
    "### \n",
    "This concludes the lab! For more information on Getting started on Databricks SQL please check out our [documentation guide](https://docs.databricks.com/en/sql/get-started/index.html) and the [demo center](https://www.databricks.com/resources/demos/library?itm_data=demo_center#platform=2517)!"
   ]
  },
  {
   "cell_type": "markdown",
   "metadata": {
    "application/vnd.databricks.v1+cell": {
     "cellMetadata": {},
     "inputWidgets": {},
     "nuid": "54f62b12-24e9-4a79-a6e2-1e2857b77987",
     "showTitle": false,
     "tableResultSettingsMap": {},
     "title": ""
    }
   },
   "source": []
  },
  {
   "cell_type": "markdown",
   "metadata": {
    "application/vnd.databricks.v1+cell": {
     "cellMetadata": {},
     "inputWidgets": {},
     "nuid": "e60fec18-2e2d-45b7-96aa-183d3f8df776",
     "showTitle": false,
     "tableResultSettingsMap": {},
     "title": ""
    }
   },
   "source": []
  }
 ],
 "metadata": {
  "application/vnd.databricks.v1+notebook": {
   "computePreferences": null,
   "dashboards": [],
   "environmentMetadata": {
    "base_environment": "",
    "environment_version": "1"
   },
   "inputWidgetPreferences": null,
   "language": "sql",
   "notebookMetadata": {
    "pythonIndentUnit": 4
   },
   "notebookName": "(Vocareum) Part 2 - User POV - DBSQL & BI Lab Guide DAIS 2025",
   "widgets": {}
  },
  "language_info": {
   "name": "sql"
  }
 },
 "nbformat": 4,
 "nbformat_minor": 0
}